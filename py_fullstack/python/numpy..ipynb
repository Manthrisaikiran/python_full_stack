 from abc import ABC,abstractmethod
 class car(ABC):
     @abstractmethod#decorator
     def mileage(self):
         pass

class tesla(car):
    def mileage(self):
        print('the mileage is 30kmph')
class suziki(car):
    def mileage(self):
        print('the mileage is 25kmph')
class duster(car):
    def mileage(self):
        print('the mileage is 24kmph')
class renault(car):
    def mileage(self):
        print('the mileage is 27kmph')

t=tesla()
t.mileage()
r=renault()
t.mileage()
s=suziki()
s.mileage()
d=duster()
d.mileage()